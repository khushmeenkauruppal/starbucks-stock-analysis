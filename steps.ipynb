{
 "cells": [
  {
   "cell_type": "markdown",
   "id": "1c97f492-8fbc-4172-8a18-f63be5c0aec6",
   "metadata": {},
   "source": [
    "1. Download dataset from Kaggle, in this case \"SBUX.csv\".\n",
    "2. Install MySQL Workbench.\n",
    "3. Inside MySQL Workbench, connect to a server.\n",
    "4. Create new schema, in this case \"sbux-stock-data\".\n",
    "5. Create new table defining the table schema which is similar to the one in the csv, in this case \"sbux_stock_data\".\n",
    "6. Load data from the csv into the table \"sbux_stock_data\".\n",
    "7. Data Exploration\n",
    "8. Data Transformation\n",
    "9. Data Analysis"
   ]
  }
 ],
 "metadata": {
  "kernelspec": {
   "display_name": "Python 3 (ipykernel)",
   "language": "python",
   "name": "python3"
  },
  "language_info": {
   "codemirror_mode": {
    "name": "ipython",
    "version": 3
   },
   "file_extension": ".py",
   "mimetype": "text/x-python",
   "name": "python",
   "nbconvert_exporter": "python",
   "pygments_lexer": "ipython3",
   "version": "3.11.7"
  }
 },
 "nbformat": 4,
 "nbformat_minor": 5
}
