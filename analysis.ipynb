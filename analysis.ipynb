{
 "cells": [
  {
   "cell_type": "code",
   "execution_count": 1,
   "id": "def083d8-73e7-4145-bd1a-1211a3ad6324",
   "metadata": {},
   "outputs": [],
   "source": [
    "import pandas as pd\n",
    "sbux_data = pd.read_csv(\"tables/sbux_stock_data.csv\")"
   ]
  },
  {
   "cell_type": "code",
   "execution_count": 2,
   "id": "51d4f159-e5e7-4be2-b493-f7282506ebf6",
   "metadata": {},
   "outputs": [
    {
     "name": "stdout",
     "output_type": "stream",
     "text": [
      "<class 'pandas.core.frame.DataFrame'>\n",
      "RangeIndex: 7913 entries, 0 to 7912\n",
      "Data columns (total 7 columns):\n",
      " #   Column          Non-Null Count  Dtype  \n",
      "---  ------          --------------  -----  \n",
      " 0   Date            7913 non-null   object \n",
      " 1   Open            7913 non-null   float64\n",
      " 2   High            7913 non-null   float64\n",
      " 3   Low             7913 non-null   float64\n",
      " 4   Close           7913 non-null   float64\n",
      " 5   Adj_Close       7913 non-null   float64\n",
      " 6   Volume_million  7913 non-null   float64\n",
      "dtypes: float64(6), object(1)\n",
      "memory usage: 432.9+ KB\n"
     ]
    }
   ],
   "source": [
    "sbux_data.info()"
   ]
  },
  {
   "cell_type": "markdown",
   "id": "7fadc7e3-0a15-4556-a7e1-f53b8278768a",
   "metadata": {},
   "source": [
    "## Data Overview: \n",
    "\n",
    "The dataset consists of seven columns:\n",
    "1. Date: The date of the stock data.\n",
    "2. Open: The opening price of the stock on the given date.\n",
    "3. High: The highest price of the stock during the trading day.\n",
    "4. Low: The lowest price of the stock during the trading day.\n",
    "5. Close: The closing price of the stock on the given date.\n",
    "6. Adj Close: The adjusted closing price of the stock, accounting for any corporate actions such as dividends or stock splits.\n",
    "7. Volume: The trading volume of the stock on the given date."
   ]
  },
  {
   "cell_type": "markdown",
   "id": "339c87e2-f78e-4984-90f4-99480a03ddcb",
   "metadata": {},
   "source": [
    "## Key Findings:\n",
    "\n",
    "1. Overall Trends: This chart illustrates the price movements of Starbucks stock from 1992 to 2023. Despite fluctuations, there seems to be a general upward trajectory in the stock price over the analyzed period.\n",
    "![Overall Trends](\"Overall-Trends.png\")\n",
    "\n",
    "2. Trading Volume: This set of graphs demonstrates the trading activity levels over time. Daily Volume captures short-term spikes in trading, possibly triggered by major announcements or events. Monthly and Yearly Volumes smooth out daily fluctuations, revealing long-term trading behavior and trends.\n",
    "3. Yearly Average Close: It gives a clearer picture of the stock's annual performance, helping investors compare year-over-year (YoY) trends and identify periods of growth or stagnation.\n",
    "4. Daily Returns Histogram: Plotting the distribution of daily returns provides an overview of the stock's volatility and potential risk levels. Understanding the distribution of returns can aid in risk management and portfolio optimization.\n",
    "5. Simple Moving Average: The SMA chart helps in identifying trends and smoothing out short-term fluctuations, providing a clearer picture of the stock's overall direction.\n",
    "6. Volatility Over the Years: The volatility graph categorizes periods into high, moderate, or low volatility. High volatility indicates periods of uncertainty or significant market events. Low volatility suggests stable market conditions. Moderate volatility is a transitional state."
   ]
  },
  {
   "cell_type": "markdown",
   "id": "0e505852-c403-4241-92c9-020cbc0a961d",
   "metadata": {},
   "source": [
    "## Conclusion:\n"
   ]
  }
 ],
 "metadata": {
  "kernelspec": {
   "display_name": "Python 3 (ipykernel)",
   "language": "python",
   "name": "python3"
  },
  "language_info": {
   "codemirror_mode": {
    "name": "ipython",
    "version": 3
   },
   "file_extension": ".py",
   "mimetype": "text/x-python",
   "name": "python",
   "nbconvert_exporter": "python",
   "pygments_lexer": "ipython3",
   "version": "3.11.7"
  }
 },
 "nbformat": 4,
 "nbformat_minor": 5
}
